{
 "cells": [
  {
   "cell_type": "code",
   "execution_count": 15,
   "metadata": {},
   "outputs": [],
   "source": [
    "import numpy as np\n",
    "import pandas as pd\n",
    "import warnings \n",
    "warnings.filterwarnings(\"ignore\")"
   ]
  },
  {
   "cell_type": "markdown",
   "metadata": {},
   "source": [
    "## apply函数"
   ]
  },
  {
   "cell_type": "code",
   "execution_count": 10,
   "metadata": {},
   "outputs": [
    {
     "data": {
      "text/plain": [
       "0     80\n",
       "1     83\n",
       "2     78\n",
       "3     74\n",
       "4    184\n",
       "dtype: object"
      ]
     },
     "execution_count": 10,
     "metadata": {},
     "output_type": "execute_result"
    }
   ],
   "source": [
    "ary = np.array(['80公斤','83公斤','78公斤','74公斤','184公斤'])\n",
    "s = pd.Series(ary)\n",
    "def func(x):\n",
    "    return x[:-2]\n",
    "s.apply(func)"
   ]
  },
  {
   "cell_type": "code",
   "execution_count": 16,
   "metadata": {},
   "outputs": [
    {
     "data": {
      "text/html": [
       "<div>\n",
       "<style scoped>\n",
       "    .dataframe tbody tr th:only-of-type {\n",
       "        vertical-align: middle;\n",
       "    }\n",
       "\n",
       "    .dataframe tbody tr th {\n",
       "        vertical-align: top;\n",
       "    }\n",
       "\n",
       "    .dataframe thead th {\n",
       "        text-align: right;\n",
       "    }\n",
       "</style>\n",
       "<table border=\"1\" class=\"dataframe\">\n",
       "  <thead>\n",
       "    <tr style=\"text-align: right;\">\n",
       "      <th></th>\n",
       "      <th>John Carson</th>\n",
       "      <th>Michelle Peterson</th>\n",
       "      <th>William Reynolds</th>\n",
       "      <th>Jillian Hobart</th>\n",
       "      <th>Melissa Jones</th>\n",
       "      <th>Alex Roberts</th>\n",
       "      <th>Michael Henry</th>\n",
       "    </tr>\n",
       "  </thead>\n",
       "  <tbody>\n",
       "    <tr>\n",
       "      <th>Anger Management</th>\n",
       "      <td>3.0</td>\n",
       "      <td>1.5</td>\n",
       "      <td>3.25</td>\n",
       "      <td>3.0</td>\n",
       "      <td>2</td>\n",
       "      <td>3.7</td>\n",
       "      <td>3.166667</td>\n",
       "    </tr>\n",
       "    <tr>\n",
       "      <th>Fracture</th>\n",
       "      <td>3.5</td>\n",
       "      <td>5.0</td>\n",
       "      <td>3.50</td>\n",
       "      <td>4.0</td>\n",
       "      <td>3</td>\n",
       "      <td>5.0</td>\n",
       "      <td>4.000000</td>\n",
       "    </tr>\n",
       "    <tr>\n",
       "      <th>Inception</th>\n",
       "      <td>2.5</td>\n",
       "      <td>3.0</td>\n",
       "      <td>2.50</td>\n",
       "      <td>3.5</td>\n",
       "      <td>3</td>\n",
       "      <td>3.0</td>\n",
       "      <td>3.166667</td>\n",
       "    </tr>\n",
       "    <tr>\n",
       "      <th>Jerry Maguire</th>\n",
       "      <td>3.0</td>\n",
       "      <td>3.0</td>\n",
       "      <td>4.00</td>\n",
       "      <td>4.5</td>\n",
       "      <td>3</td>\n",
       "      <td>3.0</td>\n",
       "      <td>3.166667</td>\n",
       "    </tr>\n",
       "    <tr>\n",
       "      <th>Pulp Fiction</th>\n",
       "      <td>3.5</td>\n",
       "      <td>3.5</td>\n",
       "      <td>3.00</td>\n",
       "      <td>3.5</td>\n",
       "      <td>4</td>\n",
       "      <td>4.0</td>\n",
       "      <td>4.500000</td>\n",
       "    </tr>\n",
       "    <tr>\n",
       "      <th>Serendipity</th>\n",
       "      <td>2.5</td>\n",
       "      <td>3.5</td>\n",
       "      <td>3.25</td>\n",
       "      <td>2.5</td>\n",
       "      <td>2</td>\n",
       "      <td>3.5</td>\n",
       "      <td>1.000000</td>\n",
       "    </tr>\n",
       "  </tbody>\n",
       "</table>\n",
       "</div>"
      ],
      "text/plain": [
       "                  John Carson  Michelle Peterson  William Reynolds  \\\n",
       "Anger Management          3.0                1.5              3.25   \n",
       "Fracture                  3.5                5.0              3.50   \n",
       "Inception                 2.5                3.0              2.50   \n",
       "Jerry Maguire             3.0                3.0              4.00   \n",
       "Pulp Fiction              3.5                3.5              3.00   \n",
       "Serendipity               2.5                3.5              3.25   \n",
       "\n",
       "                  Jillian Hobart  Melissa Jones  Alex Roberts  Michael Henry  \n",
       "Anger Management             3.0              2           3.7       3.166667  \n",
       "Fracture                     4.0              3           5.0       4.000000  \n",
       "Inception                    3.5              3           3.0       3.166667  \n",
       "Jerry Maguire                4.5              3           3.0       3.166667  \n",
       "Pulp Fiction                 3.5              4           4.0       4.500000  \n",
       "Serendipity                  2.5              2           3.5       1.000000  "
      ]
     },
     "execution_count": 16,
     "metadata": {},
     "output_type": "execute_result"
    }
   ],
   "source": [
    "ratings = pd.read_json('../../data/ratings.json')\n",
    "ratings\n",
    "def func(x):\n",
    "    x[x.isna()] = x.mean()\n",
    "    return x\n",
    "ratings.apply(func)"
   ]
  },
  {
   "cell_type": "code",
   "execution_count": 20,
   "metadata": {},
   "outputs": [
    {
     "name": "stdout",
     "output_type": "stream",
     "text": [
      "      Name  Age  Rating\n",
      "0      Tom   25    4.23\n",
      "1    James   26    3.24\n",
      "2    Ricky   25    3.98\n",
      "3      Vin   23    2.56\n",
      "4    Steve   30    3.20\n",
      "5    Minsu   29    4.60\n",
      "6     Jack   23    3.80\n",
      "7      Lee   34    3.78\n",
      "8    David   40    2.98\n",
      "9   Gasper   30    4.80\n",
      "10  Betina   51    4.10\n",
      "11  Andres   46    3.65\n",
      "**************************************************\n",
      "      Name  Age  Rating\n",
      "11  Andres   46    3.65\n",
      "10  Betina   51    4.10\n",
      "9   Gasper   30    4.80\n",
      "8    David   40    2.98\n",
      "7      Lee   34    3.78\n",
      "6     Jack   23    3.80\n",
      "5    Minsu   29    4.60\n",
      "4    Steve   30    3.20\n",
      "3      Vin   23    2.56\n",
      "2    Ricky   25    3.98\n",
      "1    James   26    3.24\n",
      "0      Tom   25    4.23\n"
     ]
    }
   ],
   "source": [
    "d = {'Name':pd.Series(['Tom','James','Ricky','Vin','Steve','Minsu','Jack','Lee','David','Gasper','Betina','Andres']),\n",
    " 'Age':pd.Series([25,26,25,23,30,29,23,34,40,30,51,46]),\n",
    " 'Rating':pd.Series([4.23,3.24,3.98,2.56,3.20,4.6,3.8,3.78,2.98,4.80,4.10,3.65])}\n",
    "unsorted_df = pd.DataFrame(d)\n",
    "unsorted_df\n",
    "# 按照行标进行排序\n",
    "sorted_df=unsorted_df.sort_index()\n",
    "print (sorted_df)\n",
    "print('*'*50)\n",
    "# 控制排序顺序\n",
    "sorted_df = unsorted_df.sort_index(ascending=False)\n",
    "print (sorted_df)"
   ]
  },
  {
   "cell_type": "code",
   "execution_count": 21,
   "metadata": {},
   "outputs": [
    {
     "name": "stdout",
     "output_type": "stream",
     "text": [
      "    Age    Name  Rating\n",
      "0    25     Tom    4.23\n",
      "1    26   James    3.24\n",
      "2    25   Ricky    3.98\n",
      "3    23     Vin    2.56\n",
      "4    30   Steve    3.20\n",
      "5    29   Minsu    4.60\n",
      "6    23    Jack    3.80\n",
      "7    34     Lee    3.78\n",
      "8    40   David    2.98\n",
      "9    30  Gasper    4.80\n",
      "10   51  Betina    4.10\n",
      "11   46  Andres    3.65\n"
     ]
    }
   ],
   "source": [
    "# 按照列标签进行排序\n",
    "sorted_df=unsorted_df.sort_index(axis=1)\n",
    "print (sorted_df)"
   ]
  },
  {
   "cell_type": "code",
   "execution_count": 22,
   "metadata": {},
   "outputs": [
    {
     "name": "stdout",
     "output_type": "stream",
     "text": [
      "      Name  Age  Rating\n",
      "3      Vin   23    2.56\n",
      "6     Jack   23    3.80\n",
      "0      Tom   25    4.23\n",
      "2    Ricky   25    3.98\n",
      "1    James   26    3.24\n",
      "5    Minsu   29    4.60\n",
      "4    Steve   30    3.20\n",
      "9   Gasper   30    4.80\n",
      "7      Lee   34    3.78\n",
      "8    David   40    2.98\n",
      "11  Andres   46    3.65\n",
      "10  Betina   51    4.10\n",
      "      Name  Age  Rating\n",
      "6     Jack   23    3.80\n",
      "3      Vin   23    2.56\n",
      "0      Tom   25    4.23\n",
      "2    Ricky   25    3.98\n",
      "1    James   26    3.24\n",
      "5    Minsu   29    4.60\n",
      "9   Gasper   30    4.80\n",
      "4    Steve   30    3.20\n",
      "7      Lee   34    3.78\n",
      "8    David   40    2.98\n",
      "11  Andres   46    3.65\n",
      "10  Betina   51    4.10\n"
     ]
    }
   ],
   "source": [
    "sorted_df = unsorted_df.sort_values(by='Age')\n",
    "print (sorted_df)\n",
    "# 先按Age进行升序排序，然后按Rating降序排序\n",
    "sorted_df = unsorted_df.sort_values(by=['Age', 'Rating'], ascending=[True, False])\n",
    "print (sorted_df)"
   ]
  },
  {
   "cell_type": "code",
   "execution_count": null,
   "metadata": {},
   "outputs": [],
   "source": []
  }
 ],
 "metadata": {
  "kernelspec": {
   "display_name": "Python 3",
   "language": "python",
   "name": "python3"
  },
  "language_info": {
   "codemirror_mode": {
    "name": "ipython",
    "version": 3
   },
   "file_extension": ".py",
   "mimetype": "text/x-python",
   "name": "python",
   "nbconvert_exporter": "python",
   "pygments_lexer": "ipython3",
   "version": "3.7.3"
  }
 },
 "nbformat": 4,
 "nbformat_minor": 2
}
